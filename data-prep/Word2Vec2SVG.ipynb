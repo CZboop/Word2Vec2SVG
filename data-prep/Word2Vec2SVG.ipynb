{
  "nbformat": 4,
  "nbformat_minor": 0,
  "metadata": {
    "colab": {
      "name": "Word2Vec2SVGCleanClass.ipynb",
      "provenance": [],
      "collapsed_sections": []
    },
    "kernelspec": {
      "name": "python3",
      "display_name": "Python 3"
    },
    "language_info": {
      "name": "python"
    }
  },
  "cells": [
    {
      "cell_type": "code",
      "source": [
        "import math\n",
        "import time\n",
        "from google.colab import files\n",
        "from itertools import chain\n",
        "\n",
        "import gensim\n",
        "from gensim.models import Word2Vec\n",
        "import json"
      ],
      "metadata": {
        "id": "7se_ZE4F9wTD"
      },
      "execution_count": 5,
      "outputs": []
    },
    {
      "cell_type": "code",
      "source": [
        "class Word2Vec2SVG:\n",
        "  def __init__(self, path_to_model):\n",
        "    self.model = Word2Vec.load(path_to_model)\n",
        "\n",
        "  # getting positive version of lowest value in the model data, just flattening and getting the minimum with min, abs to make positive whether negative or positive\n",
        "  # all values will be increase by this so there are no negatives and the shape won't have points crossing over\n",
        "    self.min = abs(min(chain.from_iterable(self.model.wv['{}'.format(i)] for i in list(self.model.wv.vocab))))    \n",
        "\n",
        "\n",
        "  # using value of each part of vector as distance, equally spacing around a point\n",
        "  # bumping up by dataset minimum to cancel out negatives in the vector\n",
        "  def get_coordinates_for_vector(self, vector):\n",
        "    points = []\n",
        "    \n",
        "    for c,v in enumerate(vector):\n",
        "      point_angle = 2 * math.pi * c / len(vector)\n",
        "      x = (v + self.min) * math.cos(point_angle)\n",
        "      y = (v + self.min) * math.sin(point_angle)\n",
        "      points.append([x, y])\n",
        "    return points\n",
        "  \n",
        "  def generate_coords_all_words(self):\n",
        "    all_word_coords = {}\n",
        "    vocab = list(self.model.wv.vocab)\n",
        "    for i in vocab:\n",
        "      all_word_coords[i] = self.get_coordinates_for_vector(self.model.wv['{}'.format(i)])\n",
        "    return all_word_coords\n",
        "\n",
        "  # tweak this to auto take the data from what's been set in the object\n",
        "  def save_json(self, filename, data):\n",
        "    with open(filename + '.json', 'w') as file_:\n",
        "      json.dump(data, file_, ensure_ascii=False)\n",
        "    time.sleep(200)\n",
        "    files.download(filename + \".json\")\n",
        "\n",
        "  # at this point, will be about a quarter visible - the part that is both x and y positive, so need to pad\n",
        "  # for sake of comparisons best to do minimum for whole dataset\n",
        "  def make_svg_friendly(self, points, min_=None, viewbox=100):\n",
        "    if not min_:\n",
        "      min_x = min([i[0] for i in points])\n",
        "      min_y = min([i[1] for i in points])\n",
        "\n",
        "      padding = abs(min([min_x, min_y]) * 1.5)\n",
        "    else:\n",
        "      padding = abs(min_ * 1.5)\n",
        "\n",
        "    point_str = \"\"\n",
        "    for point in points:\n",
        "      point_str += \",\".join([str(point[0] +padding), str(point[1] + padding)]) + \" \"\n",
        "\n",
        "    return point_str.rstrip()\n",
        "\n",
        "  def get_svg_min(self, coordinates_all_words): # coordinates_all_words will be dict with nested list values, want the smallest value from all, and can disregard keys\n",
        "    all_x_coords = []\n",
        "    all_y_coords = []\n",
        "\n",
        "    for i in list(coordinates_all_words.values()):\n",
        "      all_x_coords.append([j[0] for j in i])\n",
        "      all_y_coords.append([j[1] for j in i])\n",
        "\n",
        "    all_x_coords = list(chain.from_iterable(all_x_coords))\n",
        "    all_y_coords = list(chain.from_iterable(all_y_coords))\n",
        "\n",
        "    svg_min = abs(min([min(all_y_coords), min(all_x_coords)]))\n",
        "    return svg_min\n",
        "  \n",
        "  def make_all_svg_polygon_strings(self, all_coords, offset): # all coords should be dict with word key and coordinate value as made above\n",
        "    svg_dict = {}\n",
        "    for k,v in all_coords.items():\n",
        "      svg_dict[k] = self.make_svg_friendly(v, offset)\n",
        "    return svg_dict\n",
        "\n",
        "  def make_and_save(self, filename):\n",
        "    self.all_coordinates = self.generate_coords_all_words()\n",
        "    self.polygon_strings = self.make_all_svg_polygon_strings(self.all_coordinates, self.get_svg_min(self.all_coordinates) )\n",
        "    self.save_json( filename, self.polygon_strings)\n",
        "  "
      ],
      "metadata": {
        "id": "a0CzSBeFX5zV"
      },
      "execution_count": 26,
      "outputs": []
    },
    {
      "cell_type": "code",
      "source": [
        "converter = Word2Vec2SVG(\"scpword2vec_shortervec.model\")"
      ],
      "metadata": {
        "id": "SyZEWi31bcvQ"
      },
      "execution_count": 27,
      "outputs": []
    },
    {
      "cell_type": "code",
      "source": [
        "converter.make_and_save(\"testfile\")"
      ],
      "metadata": {
        "id": "Z4TrqjzhcIII"
      },
      "execution_count": null,
      "outputs": []
    }
  ]
}