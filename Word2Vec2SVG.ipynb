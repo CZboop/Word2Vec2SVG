{
  "nbformat": 4,
  "nbformat_minor": 0,
  "metadata": {
    "colab": {
      "name": "WordVec2SVG.ipynb",
      "provenance": [],
      "collapsed_sections": []
    },
    "kernelspec": {
      "name": "python3",
      "display_name": "Python 3"
    },
    "language_info": {
      "name": "python"
    }
  },
  "cells": [
    {
      "cell_type": "code",
      "source": [
        "import math\n",
        "import time\n",
        "from google.colab import files"
      ],
      "metadata": {
        "id": "7se_ZE4F9wTD"
      },
      "execution_count": 1,
      "outputs": []
    },
    {
      "cell_type": "code",
      "source": [
        "def get_coordinates_for_vector(vector, min):\n",
        "  # using value of each part of vector as distance, equally spacing around a point\n",
        "  # just complicated by presence of negative values, will probably bump everything up by minimum of whole dataset for now\n",
        "  angle = 360 / len(vector)\n",
        "  points = []\n",
        "  for c,v in enumerate(vector):\n",
        "    x = (v + min) * math.cos(angle*c)\n",
        "    y = (v + min) * math.sin(angle*c)\n",
        "    points.append([x, y])\n",
        "\n",
        "  return points"
      ],
      "metadata": {
        "id": "kjb1BDd4ev23"
      },
      "execution_count": 2,
      "outputs": []
    },
    {
      "cell_type": "code",
      "source": [
        "# thinking atm can just write these to a file, load in to js? or have this calculation within js? depending on whether can load vecs straight into js or how would work"
      ],
      "metadata": {
        "id": "v8JgS3DKSCf3"
      },
      "execution_count": null,
      "outputs": []
    },
    {
      "cell_type": "code",
      "source": [
        "import gensim\n",
        "from gensim.models import Word2Vec\n",
        "\n",
        "model = Word2Vec.load(\"scpword2vec.model\")\n",
        "\n",
        "print(model.most_similar('containment'))"
      ],
      "metadata": {
        "colab": {
          "base_uri": "https://localhost:8080/"
        },
        "id": "dsEXy8aq_o9W",
        "outputId": "4664cb47-de91-4bfe-c8f6-1cc6c2844c1a"
      },
      "execution_count": 3,
      "outputs": [
        {
          "output_type": "stream",
          "name": "stdout",
          "text": [
            "[('site', 0.5707194209098816), ('containment_measures', 0.5412185192108154), ('research', 0.5396344661712646), ('containment_protocols', 0.5285018086433411), ('testing', 0.521632969379425), ('personnel', 0.5118201375007629), ('recontainment', 0.5112651586532593), ('foundation', 0.4936738908290863), ('quarantine', 0.48947620391845703), ('site_56', 0.4806642234325409)]\n"
          ]
        },
        {
          "output_type": "stream",
          "name": "stderr",
          "text": [
            "/usr/local/lib/python3.7/dist-packages/ipykernel_launcher.py:6: DeprecationWarning: Call to deprecated `most_similar` (Method will be removed in 4.0.0, use self.wv.most_similar() instead).\n",
            "  \n"
          ]
        }
      ]
    },
    {
      "cell_type": "code",
      "source": [
        "from itertools import chain\n",
        "\n",
        "model_min = abs(min(chain.from_iterable(model.wv['{}'.format(i)] for i in list(model.wv.vocab))))\n",
        "print(model_min)"
      ],
      "metadata": {
        "colab": {
          "base_uri": "https://localhost:8080/"
        },
        "id": "0xgOqt5gcbw8",
        "outputId": "4fbf14d5-6a8c-4365-f87e-ec7d95dbf53a"
      },
      "execution_count": 4,
      "outputs": [
        {
          "output_type": "stream",
          "name": "stdout",
          "text": [
            "3.7692266\n"
          ]
        }
      ]
    },
    {
      "cell_type": "code",
      "source": [
        "sample_vector = model.wv['containment']"
      ],
      "metadata": {
        "id": "2veNrcFh_fSc"
      },
      "execution_count": null,
      "outputs": []
    },
    {
      "cell_type": "code",
      "source": [
        "print(len(sample_vector))"
      ],
      "metadata": {
        "colab": {
          "base_uri": "https://localhost:8080/"
        },
        "id": "cxjplOl2_s1j",
        "outputId": "36471940-49b1-4d77-8442-88ad630ccf0e"
      },
      "execution_count": null,
      "outputs": [
        {
          "output_type": "stream",
          "name": "stdout",
          "text": [
            "300\n"
          ]
        }
      ]
    },
    {
      "cell_type": "code",
      "source": [
        "sample_vector_points = get_coordinates_for_vector(sample_vector, model_min)"
      ],
      "metadata": {
        "id": "7riYVv0qAAjT"
      },
      "execution_count": null,
      "outputs": []
    },
    {
      "cell_type": "code",
      "source": [
        "def generate_coords_all_words(model, min):\n",
        "  all_word_coords = {}\n",
        "  vocab = list(model.wv.vocab)\n",
        "  for i in vocab:\n",
        "    all_word_coords[i] = get_coordinates_for_vector(model.wv['{}'.format(i)], min)\n",
        "  return all_word_coords"
      ],
      "metadata": {
        "id": "MRN_zAnl_vqQ"
      },
      "execution_count": 5,
      "outputs": []
    },
    {
      "cell_type": "code",
      "source": [
        "import json\n",
        "\n",
        "def save_json(filename, data):\n",
        "  with open(filename + '.json', 'w') as file_:\n",
        "    json.dump(data, file_, ensure_ascii=False)\n",
        "  time.sleep(200)\n",
        "  files.download(filename + \".json\")"
      ],
      "metadata": {
        "id": "XyOKa9dsog-s"
      },
      "execution_count": 33,
      "outputs": []
    },
    {
      "cell_type": "code",
      "source": [
        "coordinates_all_words = generate_coords_all_words(model, model_min)"
      ],
      "metadata": {
        "id": "oZ3iVBGxDu0q"
      },
      "execution_count": 6,
      "outputs": []
    },
    {
      "cell_type": "code",
      "source": [
        "save_json(\"scp_wordvec_keyval_coords\", coordinates_all_words)"
      ],
      "metadata": {
        "colab": {
          "base_uri": "https://localhost:8080/",
          "height": 34
        },
        "id": "5kPh73OMpI7y",
        "outputId": "90b6ac6f-dd3e-414d-ecde-908fcc51d794"
      },
      "execution_count": null,
      "outputs": [
        {
          "output_type": "display_data",
          "data": {
            "text/plain": [
              "<IPython.core.display.Javascript object>"
            ],
            "application/javascript": [
              "\n",
              "    async function download(id, filename, size) {\n",
              "      if (!google.colab.kernel.accessAllowed) {\n",
              "        return;\n",
              "      }\n",
              "      const div = document.createElement('div');\n",
              "      const label = document.createElement('label');\n",
              "      label.textContent = `Downloading \"${filename}\": `;\n",
              "      div.appendChild(label);\n",
              "      const progress = document.createElement('progress');\n",
              "      progress.max = size;\n",
              "      div.appendChild(progress);\n",
              "      document.body.appendChild(div);\n",
              "\n",
              "      const buffers = [];\n",
              "      let downloaded = 0;\n",
              "\n",
              "      const channel = await google.colab.kernel.comms.open(id);\n",
              "      // Send a message to notify the kernel that we're ready.\n",
              "      channel.send({})\n",
              "\n",
              "      for await (const message of channel.messages) {\n",
              "        // Send a message to notify the kernel that we're ready.\n",
              "        channel.send({})\n",
              "        if (message.buffers) {\n",
              "          for (const buffer of message.buffers) {\n",
              "            buffers.push(buffer);\n",
              "            downloaded += buffer.byteLength;\n",
              "            progress.value = downloaded;\n",
              "          }\n",
              "        }\n",
              "      }\n",
              "      const blob = new Blob(buffers, {type: 'application/binary'});\n",
              "      const a = document.createElement('a');\n",
              "      a.href = window.URL.createObjectURL(blob);\n",
              "      a.download = filename;\n",
              "      div.appendChild(a);\n",
              "      a.click();\n",
              "      div.remove();\n",
              "    }\n",
              "  "
            ]
          },
          "metadata": {}
        },
        {
          "output_type": "display_data",
          "data": {
            "text/plain": [
              "<IPython.core.display.Javascript object>"
            ],
            "application/javascript": [
              "download(\"download_b9457785-0999-4f79-a31c-98fe7e9c43ed\", \"scp_wordvec_keyval_coords.json\", 478535225)"
            ]
          },
          "metadata": {}
        }
      ]
    },
    {
      "cell_type": "code",
      "source": [
        "# save co-ords to file - prob just txt atm but can save as variable and make it a py, js, json etc file lol\n",
        "def save_coords(filename, coords):\n",
        "  file_ = open(filename + \".txt\", \"w\")\n",
        "  file_.write(str(coords))\n",
        "  file_.close()\n",
        "  time.sleep(350)\n",
        "  files.download(filename + \".txt\")"
      ],
      "metadata": {
        "id": "L7YNNqy1NuiK"
      },
      "execution_count": null,
      "outputs": []
    },
    {
      "cell_type": "code",
      "source": [
        "save_coords(\"scp_wordvec_coords\", coordinates_all_words)"
      ],
      "metadata": {
        "id": "SI8-79oVOUkS",
        "colab": {
          "base_uri": "https://localhost:8080/",
          "height": 17
        },
        "outputId": "af50efe7-773b-485a-f7e8-cb927d3a2e05"
      },
      "execution_count": null,
      "outputs": [
        {
          "output_type": "display_data",
          "data": {
            "text/plain": [
              "<IPython.core.display.Javascript object>"
            ],
            "application/javascript": [
              "\n",
              "    async function download(id, filename, size) {\n",
              "      if (!google.colab.kernel.accessAllowed) {\n",
              "        return;\n",
              "      }\n",
              "      const div = document.createElement('div');\n",
              "      const label = document.createElement('label');\n",
              "      label.textContent = `Downloading \"${filename}\": `;\n",
              "      div.appendChild(label);\n",
              "      const progress = document.createElement('progress');\n",
              "      progress.max = size;\n",
              "      div.appendChild(progress);\n",
              "      document.body.appendChild(div);\n",
              "\n",
              "      const buffers = [];\n",
              "      let downloaded = 0;\n",
              "\n",
              "      const channel = await google.colab.kernel.comms.open(id);\n",
              "      // Send a message to notify the kernel that we're ready.\n",
              "      channel.send({})\n",
              "\n",
              "      for await (const message of channel.messages) {\n",
              "        // Send a message to notify the kernel that we're ready.\n",
              "        channel.send({})\n",
              "        if (message.buffers) {\n",
              "          for (const buffer of message.buffers) {\n",
              "            buffers.push(buffer);\n",
              "            downloaded += buffer.byteLength;\n",
              "            progress.value = downloaded;\n",
              "          }\n",
              "        }\n",
              "      }\n",
              "      const blob = new Blob(buffers, {type: 'application/binary'});\n",
              "      const a = document.createElement('a');\n",
              "      a.href = window.URL.createObjectURL(blob);\n",
              "      a.download = filename;\n",
              "      div.appendChild(a);\n",
              "      a.click();\n",
              "      div.remove();\n",
              "    }\n",
              "  "
            ]
          },
          "metadata": {}
        },
        {
          "output_type": "display_data",
          "data": {
            "text/plain": [
              "<IPython.core.display.Javascript object>"
            ],
            "application/javascript": [
              "download(\"download_f87d586b-2ca9-46be-99e9-867c86522bc9\", \"scp_wordvec_coords.txt\", 478115918)"
            ]
          },
          "metadata": {}
        }
      ]
    },
    {
      "cell_type": "code",
      "source": [
        "print(sample_vector_points)"
      ],
      "metadata": {
        "colab": {
          "base_uri": "https://localhost:8080/"
        },
        "id": "YmyU4G2mNZG6",
        "outputId": "58be3730-c8f5-4358-88c1-c2d2d24b876c"
      },
      "execution_count": null,
      "outputs": [
        {
          "output_type": "stream",
          "name": "stdout",
          "text": [
            "[[3.6693825721740723, 0.0], [1.338576674456038, 3.443022164542551], [-2.779932275327333, 2.5464576885241548], [-3.2857371930951893, -1.6214019882664576], [0.2888507394805857, -3.2885283073688876], [3.093598730530522, -0.900256384244382], [2.0512638766542906, 2.6761218070628887], [-1.776824978958511, 2.924139926501688], [-3.4279160032555893, -0.6068700447903422], [-0.5432963807814428, -2.7424451197119497], [2.2871669698562713, -1.4543178262899323], [2.7019130793752684, 1.9850639266017747], [-1.06381264229246, 3.9538503731675165], [-4.220648457911689, 0.4574537536266861], [-1.7771149148500383, -3.4238808931191764], [2.2274060992606786, -2.5332594996337683], [2.8374822138081637, 1.0371900562921594], [0.09198656838603304, 4.5191010751709415], [-3.312451086690946, 1.3660488504380686], [-2.0036855335854713, -2.099946744717611], [1.789394144095433, -3.820171649151889], [3.52685062225701, 0.2375699825586394], [1.0134746580725849, 3.235699344997853], [-3.4824738301648352, 2.7836549970066815], [-3.0123760031142806, -1.7475095131581735], [0.42189641845437814, -2.70238629087916], [4.049583016567081, -0.8882603633796087], [1.9566911392969957, 2.9431905527783373], [-2.475079036698936, 3.516696085152308], [-4.271627928409088, -1.056577267976845], [-0.3132254821878269, -2.427644986620339], [3.9370392235622838, -2.1462762423599733], [2.816783581220238, 2.376823892235781], [-1.1295655504402826, 3.296774584225613], [-4.547722151080262, 0.18521504399846406], [-1.2015126657658994, -2.7531316950975366], [2.7413064191372944, -2.7243572698876517], [3.027680551399657, 1.3437454877913861], [-0.18018223177023168, 3.838486720033551], [-2.8412799520348675, 0.9538517098120061], [-1.646317713692623, -1.9757907390274354], [2.1613105746952814, -3.9067660753359403], [4.046601204636347, 0.5476460542685231], [0.7812138695211068, 3.2445642277199283], [-3.779351778723172, 2.6250397502078453], [-3.001162909584307, -2.02218387053913], [1.016212408842883, -4.499392075446574], [2.876863712097776, -0.4308760066151511], [1.984556204445221, 3.4704111690062853], [-2.520052193497792, 3.1129121815467995], [-3.2850411990981256, -1.0513458644872704], [-0.2374518135319715, -3.884201042231782], [3.580127970651873, -1.6499584273234846], [2.903393117628748, 2.804908100681899], [-1.4613565952357275, 3.482125609873074], [-3.2594989668277865, -0.08657398024941146], [-1.4433762836928685, -4.025963985642055], [3.093148925590954, -2.6858663506400657], [3.7776202746955994, 1.9905551470886533], [-0.4846032501843709, 4.226293360914571], [-3.402675614601575, 0.8929212112735307], [-2.456116415944081, -3.3868973934970708], [1.8845795279837405, -2.9236230557707645], [3.8506086082888595, 0.7876805299515655], [0.7182200485164469, 4.208777772316123], [-2.962438349050366, 1.7750338050696541], [-2.463484952082035, -1.912647846419704], [1.1967809691928404, -4.019473779650459], [4.1102268568542515, -0.33535059520579713], [1.2743358546619634, 2.6232891492513777], [-2.306215050707406, 2.4865237188982348], [-3.415513997053441, -1.3523262395059992], [0.021212574690408312, -3.420221351579473], [3.1050492968021093, -1.1850643952964468], [2.6967184053859476, 2.980877918951815], [-2.038116712165518, 4.066451304241149], [-4.433550287545848, -0.41714933669473453], [-0.9744399090522723, -3.4276145515402954], [2.6367749331528025, -1.995265301722643], [2.4772592664347575, 1.5263990098073417], [-0.7640741084223547, 4.165227834884289], [-2.923161729491339, 0.5602793662947754], [-1.9757641632874352, -3.1502124713250352], [2.2109347784069224, -2.970561346221349], [2.5979678025059147, 0.7163106181265279], [0.4513293769813521, 4.41985968113228], [-3.457219014642921, 1.7672874418457367], [-3.409124505503156, -3.0352191273345706], [1.3163226518604199, -3.5330066641390228], [4.491154184632439, -0.0635550708948354], [1.3170033774148366, 3.2505776394113344], [-2.4256064064656018, 2.2858459583158255], [-4.406679190772763, -2.097542507406007], [0.20908391435157675, -2.8410755064582425], [4.003435462425323, -1.226729555268182], [1.9961514695708096, 2.5292778394854536], [-1.7648800894466081, 2.9993072523639195], [-2.4458570460109774, -0.39740134197006793], [-0.7657897555808162, -3.5977154151480146], [1.981850887673128, -1.2999219716260197], [2.615262554035559, 1.8650039039142219], [-1.075707312444095, 4.236079639200768], [-3.5049965815912327, 0.43014757135495013], [-1.712019519491024, -3.1873369699056067], [2.2295685430866667, -2.609264194319787], [4.037176597788832, 1.4112856176710062], [0.10949096632092999, 3.1721646271643973], [-2.8887695297157117, 1.2394360437631524], [-2.480145307809995, -2.5267257706291164], [1.3275909158878534, -2.941936073192277], [3.4703944382923266, 0.18448109057018194], [1.193923657869172, 3.6308762083621926], [-2.6221498399487997, 2.1574807510576264], [-3.044381141254854, -1.7089651757264446], [0.4312390157668372, -3.0442730168919336], [4.490104694376391, -1.0516917630757086], [2.465807556555294, 3.5975169558725124], [-2.349037053325193, 3.4400189490736817], [-3.464311434657872, -0.8050474821157941], [-0.6154837402545219, -4.29095479103827], [3.4111771814546965, -1.9227075173765986], [2.8499883156835644, 2.3366104969867374], [-1.1070414580601609, 3.3865731191468154], [-4.377775607684599, 0.2403828051326291], [-1.5450035583789894, -3.4078371099699414], [2.5425508964782964, -2.599367337420507], [3.0062288770822874, 1.2836212818888428], [-0.09695788303281824, 2.9589178295716367], [-3.7176446306754958, 1.3068754311385316], [-2.411305598490611, -2.8119940935743], [1.5107328027942386, -2.824413167980615], [3.754963824164372, 0.4541704402439803], [0.8710380232911341, 3.4051665500833272], [-3.244250187173374, 2.3221060419392776], [-2.9504876281275836, -1.9279033497492861], [0.7317641902362721, -3.467586198245296], [3.092447303445345, -0.5080029992073262], [2.1365403842067083, 3.616458851192266], [-2.6055807870882153, 3.313352473316521], [-3.4523227513898447, -1.0512671922180041], [-0.2628376650223946, -3.488266367206302], [2.929159445846902, -1.4005343296027204], [2.2468888973622354, 2.1100302993155298], [-1.398862957016171, 3.47001819493093], [-3.4978891057059087, -0.04339022569135488], [-1.0826107079431941, -2.890288006348892], [3.4090997371922, -3.045885248266622], [3.7120664488419477, 1.8893938699363355], [-0.2770936166482138, 2.7612745767072995], [-3.280951605568802, 0.9107902391737344], [-2.120212317067377, -2.838307472724035], [2.646229472958488, -4.2356340980573], [3.775982468975268, 0.7169051790137927], [0.6592717600963633, 3.5588864427300178], [-2.4431752431315705, 1.5112898899074514], [-2.852627512846026, -2.150779312630106], [0.8444052339825908, -2.990054604357659], [4.366033539543177, -0.4184893362041298], [1.7903685702971313, 3.5566266684612033], [-2.9634271460110178, 3.28720990551134], [-3.2654861857160924, -1.2397679601476705], [-0.026063233738243416, -3.279069318951475], [2.8734348961178906, -1.1435055018965827], [3.3021552014588043, 3.547884552350334], [-1.5598101931506123, 3.2252707002825733], [-4.489077341384673, -0.3583709922671245], [-0.8778336439063943, -2.9295529414558126], [2.763961115453519, -2.1536834657770023], [3.0357063436777665, 1.8117380899429698], [-0.5912491283332705, 3.5015894444036415], [-4.4525813858290775, 0.9189232926355123], [-2.345474145696789, -3.6247125767654254], [2.497326964323905, -3.456408753185447], [3.5499938034897034, 0.9249573276799763], [0.4459607437410208, 3.8301795864954693], [-3.6136580484556697, 1.912227474398293], [-2.785136046723161, -2.4098929685877595], [1.100384109135782, -3.0862197385404615], [3.4363091726849033, -0.09727504674484198], [1.1301668794557824, 2.6798418904240555], [-2.621513341367393, 2.541454765995079], [-3.45498525948333, -1.5849759293547756], [0.2325487393194274, -3.9162660455645577], [4.167538330186728, -1.341807688594061], [1.8729354912041158, 2.305313767928925], [-2.0148452401081762, 3.537698664322439], [-2.685616163022774, -0.39743883326979895], [-0.9547786756353674, -4.1933003299710325], [3.867463191332515, -2.6157279286609003], [3.111948347471468, 2.1534328563758685], [-1.176628832032194, 4.924584159443369], [-4.2095665403293046, 0.5771879629015224], [-1.7020072989148323, -3.0638907442763585], [2.019772347520339, -2.432608529426672], [3.738554972657136, 1.2478180394249596], [0.19080202836881405, 3.9186208793960455], [-3.861254764952315, 1.7217792461258672], [-3.123260877017142, -3.093128665605014], [1.5913953670946435, -3.6639430916623668], [3.663120764049393, 0.14278130001917755], [1.1018728338971526, 3.1977290116018318], [-2.504330464830763, 2.120671179221305], [-3.94452197254938, -2.1414291708529984], [0.5223360452823269, -4.104815545401123], [2.9634062008576323, -0.738485230619921], [2.512749658881062, 3.557007339704064], [-1.8857657342987502, 2.84727822933242], [-4.223126610336329, -0.9186003381985595], [-0.6414449923160932, -4.062113597755307], [2.5356571347214203, -1.4768838521513792], [3.2745699242380293, 2.6081123299614504], [-1.1208203554873815, 3.6004492289765744], [-3.787309136527821, 0.2617586450684351], [-1.5854027629133773, -3.3693421835626127], [2.572499964569523, -2.705531514499412], [2.8500916131186105, 1.1695536733276783], [-0.06930999068990064, 3.724696269441408], [-3.6718726612199344, 1.3494593735998037], [-3.26555064027426, -3.700903521732206], [1.637277742971926, -3.1679803008480483], [3.285527132430939, 0.35029751139494936], [1.2226096277434173, 4.512626191342178], [-2.492407500170602, 1.8378525647852195], [-2.9411325659075866, -1.8629441575803998], [0.7122527564680726, -3.6285277961771754], [2.8632391466929445, -0.5120590084256454], [2.078516432183139, 3.407216049243748], [-2.052398973869283, 2.6873084535860188], [-4.361387927859255, -1.2609344201554074], [-0.3684923642492489, -4.112831631850558], [3.4193118264890203, -1.6947476556739918], [3.3440647432927264, 3.052489269662135], [-1.5378280610880795, 3.976070444454565], [-3.57840993834342, 0.006248516613690939], [-1.1999167707172151, -3.070481793122325], [2.9162907401443428, -2.6807442321120596], [2.710512909159641, 1.331667454323051], [-0.2733962956258488, 3.176201536751443], [-3.521706877340384, 1.0315121683586685], [-2.6436536068457452, -3.4365208724488467], [2.1796330391269123, -3.601200227419201], [3.309961263156896, 0.5800285518115988], [0.8026128849617113, 4.014632253777026], [-2.8450035574392403, 1.816007973124519], [-2.973664001108968, -2.1767311125783926], [1.1436664285054048, -4.280418056450818], [3.8206909630111627, -0.4208557082484039], [1.5042859330791363, 2.885898895890889], [-2.7445799526161676, 3.1324618167649287], [-3.448552811865464, -1.2537338096078945], [-0.09546967408690202, -4.319500779647068], [3.5120420740984866, -1.455540601225891], [2.9485525686049083, 3.0794229434374865], [-1.991432099648137, 4.2709006651766614], [-3.3157604082878605, -0.21753539379991302], [-0.9814591991260944, -3.1144077503461953], [2.1722734417703653, -1.7425944884124103], [2.999541149474233, 1.7330706222793406], [-0.6242988648756408, 4.045175629729659], [-4.124789596754132, 0.9123086535075137], [-2.041796195016994, -3.0596013115815626], [2.539628765358986, -3.6218315581509017], [3.349028734104376, 0.8221714125580345], [0.4277016489221641, 3.269888816498826], [-3.6642264155010005, 2.0058601831374516], [-3.088480081577105, -2.5968641919486153], [0.9175730030794902, -2.693377328561013], [4.038063029892298, -0.1715215086200099], [1.3425625593692918, 3.0617368969052126], [-3.2943283315044654, 3.285413804206937], [-3.7975596788057664, -1.677502089718622], [0.13787979268504943, -3.051040039897188], [3.726551752507484, -1.2582928783271523], [1.891727169518341, 2.2622691591222934], [-1.5626168092560289, 2.836253309837235], [-3.4759645597323754, -0.4642397078952804], [-0.6585814961353493, -2.714407668156657], [3.2721884920839304, -2.2812578960155507], [3.0074002067156536, 2.0187599130385077], [-0.7937794976720789, 3.54332675380243], [-3.8738894333093996, 0.5871213896240616], [-2.20553448385584, -3.841257167204598], [2.5514523495909813, -3.162977165698434], [3.2974806443546414, 1.048982804294643], [0.20310176705486005, 3.2297015732445695], [-3.7738805829006683, 1.7472483147012419], [-3.3971477456935153, -3.2704651646143152], [1.4415382576139013, -3.451781692913692], [3.2412308572354944, 0.08042529554730779], [1.1214819402117042, 3.111003667768477], [-3.040005400971195, 2.6490453467530957], [-3.6972432465981604, -1.9399607787020978], [0.5219870498959257, -4.623645917410371], [2.7003568476928783, -0.7136628664828129], [2.639029536430608, 3.625789331322709], [-2.213777414042199, 3.447525461261154], [-3.336474914378418, -0.6764416576855707], [-0.5591014949444061, -3.242188955160101], [2.6065257752350557, -1.5679700715476677], [2.6106547147310595, 2.0196136453333184]]\n"
          ]
        }
      ]
    },
    {
      "cell_type": "code",
      "source": [
        "import matplotlib.pyplot as plt\n",
        "import numpy as np\n",
        "\n",
        "x = [i[0] for i in sample_vector_points]\n",
        "y = [i[1] for i in sample_vector_points]\n",
        "\n",
        "plt.scatter(x, y)\n",
        "plt.show()\n",
        "print(len(x))"
      ],
      "metadata": {
        "colab": {
          "base_uri": "https://localhost:8080/",
          "height": 282
        },
        "id": "93CM3i-2fMRg",
        "outputId": "6fc2f8c1-dee5-4c70-96d7-b23c832a01fe"
      },
      "execution_count": null,
      "outputs": [
        {
          "output_type": "display_data",
          "data": {
            "text/plain": [
              "<Figure size 432x288 with 1 Axes>"
            ],
            "image/png": "[encoded data removed]"
          },
          "metadata": {
            "needs_background": "light"
          }
        },
        {
          "output_type": "stream",
          "name": "stdout",
          "text": [
            "300\n"
          ]
        }
      ]
    },
    {
      "cell_type": "code",
      "source": [
        "# probs need to scale up, try dynamically? \n",
        "# also gonna define something to make the list of tuples/lists into the format that could go more straight into svg\n",
        "# aaaalso need to handle negatives maybe shift by min for x and y respectively\n",
        "# although for sake of comparisons best to do dataset minimum as above\n",
        "def make_svg_friendly(points, min_=None):\n",
        "  if not min_:\n",
        "    min_x = min([i[0] for i in points])\n",
        "    min_y = min([i[1] for i in points])\n",
        "    # can do overall min and add\n",
        "    padding = abs(min([min_x, min_y]) * 1.5)\n",
        "  else:\n",
        "    padding = abs(min_ * 1.5)\n",
        "  point_str = \"\"\n",
        "  for point in points:\n",
        "    point_str += \",\".join([str(point[0] +padding), str(point[1] + padding)]) + \" \"\n",
        "  return point_str.rstrip()"
      ],
      "metadata": {
        "id": "1sIFuFa-PuVf"
      },
      "execution_count": 29,
      "outputs": []
    },
    {
      "cell_type": "code",
      "source": [
        "from itertools import chain\n",
        "\n",
        "# coordinates_all_words is dict with nested list values, want the smallest value from all, and can disregard keys\n",
        "all_x_coords = []\n",
        "all_y_coords = []\n",
        "\n",
        "for i in list(coordinates_all_words.values()):\n",
        "  all_x_coords.append([j[0] for j in i])\n",
        "  all_y_coords.append([j[1] for j in i])\n",
        "\n",
        "all_x_coords = list(chain.from_iterable(all_x_coords))\n",
        "all_y_coords = list(chain.from_iterable(all_y_coords))\n",
        "\n",
        "# print(all_x_coords[:100])\n",
        "\n",
        "svg_min = abs(min([min(all_y_coords), min(all_x_coords)]))\n",
        "print(svg_min)"
      ],
      "metadata": {
        "colab": {
          "base_uri": "https://localhost:8080/"
        },
        "id": "UFjX1ccXrj1C",
        "outputId": "b761aad0-397c-4930-816e-a909d9a50766"
      },
      "execution_count": 26,
      "outputs": [
        {
          "output_type": "stream",
          "name": "stdout",
          "text": [
            "8.082082832291242\n"
          ]
        }
      ]
    },
    {
      "cell_type": "code",
      "source": [
        "print(make_svg_friendly(sample_vector_points))"
      ],
      "metadata": {
        "colab": {
          "base_uri": "https://localhost:8080/"
        },
        "id": "Z32yiSxnQHEb",
        "outputId": "49cd446d-0ab9-40c6-a36a-e73ac27ee579"
      },
      "execution_count": null,
      "outputs": [
        {
          "output_type": "stream",
          "name": "stdout",
          "text": [
            "10.604851448289628,6.935468876115555 8.274045550571593,10.378491040658107 4.155536600788222,9.48192656463971 3.649731683020366,5.314066887849098 7.224319615596141,3.646940568746668 10.029067606646077,6.035212491871174 8.986732752769846,9.611590683178445 5.158643897157044,9.859608802617243 3.507552872859966,6.3285988313252135 6.392172495334113,4.193023756403606 9.222635845971826,5.481151049825623 9.637381955490824,8.92053280271733 5.871656233823096,10.889319249283073 2.7148204182038667,7.392922629742242 5.158353961265517,3.511587982996379 9.162874975376234,4.402209376481787 9.772951089923719,7.972658932407715 7.027455444501588,11.454569951286498 3.6230177894246096,8.301517726553623 4.931783342530084,4.835522131397944 8.72486302021099,3.1152972269636665 10.462319498372565,7.173038858674195 7.948943534188141,10.171168221113408 3.45299504595072,9.719123873122237 3.923092873001275,5.187959362957382 7.3573652945699335,4.233082585236396 10.985051892682637,6.0472085127359465 8.892160015412552,9.878659428893894 4.460389839416619,10.452164961267863 2.6638409477064675,5.87889160813871 6.622243393927729,4.507823889495216 10.87250809967784,4.789192633755582 9.752252457335793,9.312292768351337 5.805903325675272,10.232243460341168 2.387746725035293,7.120683920114019 5.733956210349656,4.182337181018019 9.676775295252849,4.211111606227904 9.963149427515212,8.279214363906942 6.755286644345324,10.773955596149106 4.094188924080688,7.889320585927561 5.289151162422932,4.95967813708812 9.096779450810837,3.028702800779615 10.982070080751903,7.483114930384079 7.716682745636662,10.180033103835484 3.1561170973923836,9.5605086263234 3.9343059665312485,4.913285005576425 7.951681284958438,2.4360768006689817 9.812332588213332,6.504592869500405 8.920025080560777,10.40588004512184 4.415416682617764,10.048381057662354 3.6504276770174298,5.884123011628285 6.698017062583584,3.0512678338837733 10.515596846767428,5.2855104487920705 9.838861993744302,9.740376976797455 5.474112280879828,10.41759448598863 3.675969909287769,6.8488948958661435 5.492092592422686,2.9095048904735004 10.02861780170651,4.24960252547549 10.713089150811154,8.926024023204208 6.4508656259311845,11.161762237030127 3.5327932615139805,7.828390087389086 4.479352460171475,3.5485714826184847 8.820048404099296,4.01184582034479 10.786077484404416,7.723149406067121 7.653688924632002,11.144246648431679 3.9730305270651893,8.71050268118521 4.47198392403352,5.0228210296958515 8.132249845308396,2.915995096465096 11.045695732969808,6.600118280909758 8.209804730777519,9.558758025366933 4.629253825408149,9.42199259501379 3.5199548790621145,5.583142636609557 6.956681450805964,3.5152475245360826 10.040518172917665,5.750404480819109 9.632187281501503,9.916346795067371 4.897352163950037,11.001920180356706 2.5019185885697075,6.518319539420821 5.9610289670632834,3.50785432457526 9.572243809268357,4.940203574392912 9.412728142550312,8.461867885922898 6.171394767693201,11.100696710999845 4.012307146624217,7.495748242410331 4.95970471282812,3.78525640479052 9.146403654522478,3.9649075298942065 9.53343667862147,7.651779494242083 7.386798253096908,11.355328557247836 3.4782498614726345,8.702756317961292 3.5263443706123994,3.900249748780985 8.251791527975975,3.4024622119765326 11.426623060747994,6.87191380522072 8.252472253530392,10.18604651552689 4.509862469649954,9.22131483443138 2.528789685342792,4.837926368709549 7.144552790467132,4.094393369657313 10.93890433854088,5.708739320847373 8.931620345686365,9.46474671560101 5.170588786668947,9.934776128479475 4.489611830104578,6.538067534145488 6.169679120534739,3.3377534609675408 8.917319763788683,5.635546904489535 9.550731430151114,8.800472780029777 5.85976156367146,11.171548515316324 3.4304722945243227,7.365616447470505 5.223449356624531,3.7481319062099487 9.165037419202221,4.326204681795769 10.972645473904388,8.346754493786563 7.044959842436485,10.107633503279953 4.046699346399844,8.174904919878708 4.455323568305561,4.4087431054864386 8.263059792003409,3.9935328029232786 10.405863314407881,7.119949966685738 8.129392533984728,10.566345084477748 4.313319036166756,9.092949627173182 3.8910877348607014,5.226503700389111 7.366707891882393,3.8911958592236218 11.425573570491945,5.883777113039847 9.40127643267085,10.532985831988068 4.586431822790362,10.375487825189238 3.4711574414576836,6.130421393999761 6.3199851358610335,2.6445140850772857 10.346646057570252,5.012761358738957 9.78545719179912,9.272079373102294 5.828427418055394,10.32204199526237 2.557693268430956,7.175851681248185 5.390465317736566,3.527631766145614 9.478019772593852,4.336101538695049 9.941697753197843,8.219090158004398 6.838510993082737,9.894386705687193 3.2178242454400596,8.242344307254086 4.524163277624945,4.123474782541255 8.446201678909794,4.11105570813494 10.690432700279928,7.389639316359536 7.806506899406689,10.340635426198883 3.691218688942181,9.257574918054832 3.984981247987972,5.007565526366269 7.6672330663518276,3.4678826778702594 10.0279161795609,6.427465876908229 9.072009260322265,10.551927727307822 4.329888089027341,10.248821349432077 3.4831461247257107,5.884201683897551 6.672631211093161,3.4472025089092533 9.864628321962456,5.534934546512835 9.18235777347779,9.045499175431086 5.536605919099385,10.405487071046485 3.4375797704096467,6.8920786504242 5.852858168172361,4.045180869766663 10.344568613307755,3.8895836278489333 10.647535324957502,8.824862746051892 6.658375259467341,9.696743452822854 3.6545172705467532,7.84625911528929 4.815256559048178,4.097161403391521 9.581698349074044,2.6998347780582552 10.711451345090824,7.652374055129348 7.5947406362119185,10.494355318845573 4.492293632983985,8.446758766023006 4.082841363269529,4.78468956348545 7.779874110098146,3.9454142717578966 11.301502415658732,6.516979539911426 8.725837446412687,10.49209554457676 3.9720417301045376,10.222678781626895 3.669982690399463,5.695700915967885 6.909405642377312,3.6563995571640806 9.808903772233446,5.791963374218973 10.23762407757436,10.48335342846589 5.375658682964943,10.160739576398129 2.446391534730882,6.577097883848431 6.057635232209162,4.005915934659743 9.699429991569074,4.7817854103385535 9.971175219793322,8.747206966058526 6.344219747782285,10.437058320519197 2.482887490286478,7.854392168751068 4.589994730418766,3.31075629935013 9.43279584043946,3.4790601229301084 10.48546267960526,7.860426203795532 7.3814296198565765,10.765648462611026 3.3218108276598857,8.847696350513848 4.1503328293923945,4.525575907527796 8.035852985251337,3.849249137575094 10.371778048800458,6.838193829370714 8.065635755571337,9.615310766539611 4.313955534748162,9.476923642110634 3.4804836166322253,5.35049294676078 7.168017615434983,3.0192028305509977 11.103007206302284,5.593661187521494 8.808404367319671,9.24078264404448 4.920623636007379,10.473167540437995 4.249852713092782,6.538030042845756 5.980690200480188,2.742168546144523 10.80293206744807,4.319740947454655 10.047417223587024,9.088901732491424 5.758840044083361,11.860053035558924 2.725902335786251,7.512656839017078 5.233461577200723,3.871578131839197 8.955241223635895,4.502860346688884 10.674023848772691,8.183286915540515 7.126270904484369,10.854089755511602 3.0742141111632404,8.657248122241423 3.8122079990984132,3.8423402105105415 8.526864243210198,3.2715257844531886 10.598589640164949,7.078250176134733 8.037341710012708,10.133197887717387 4.431138411284792,9.056140055336861 2.9909469035661753,4.794039705262557 7.457804921397882,2.8306533307144326 9.898875076973187,6.196983645495634 9.448218534996617,10.49247621581962 5.0497031418168055,9.782747105447974 2.7123422657792267,6.016868537916996 6.294023883799462,2.8733552783602487 9.471126010836976,5.458585023964176 10.210038800353585,9.543581206077006 5.8146485206281735,10.53591810509213 3.1481597395877343,7.197227521183991 5.350066113202178,3.5661266925529427 9.507968840685079,4.229937361616143 9.785560489234166,8.105022549443234 6.866158885425655,10.660165145556963 3.263596214895621,8.284928249715358 3.6699182358412954,3.2345653543833492 8.572746619087482,3.767488575267507 10.220996008546495,7.285766387510504 8.158078503858972,11.448095067457732 4.4430613759449535,8.773321440900775 3.9943363102079688,5.072524718535155 7.647721632583628,3.30694107993838 9.7987080228085,6.42340986768991 9.013985308298695,10.342684925359304 4.883069902246272,9.622777329701574 2.5740809482563005,5.674534455960148 6.566976511866306,2.822637244264998 10.354780702604575,5.240721220441563 10.279533619408282,9.98795814577769 5.397640815027476,10.911539320570121 3.3570589377721354,6.941717392729246 5.73555210539834,3.8649870829932302 9.851759616259898,4.254724644003495 9.645981785275197,8.267136330438607 6.662072580489706,10.111670412867 3.4137619987751715,7.966981044474224 4.29181526926981,3.4989480036667087 9.115101915242468,3.334268648696354 10.245430139272452,7.515497427927154 7.738081761077266,10.95010112989258 4.090465318676316,8.751476849240074 3.9618048750065875,4.758737763537162 8.07913530462096,2.655050819664737 10.756159839126719,6.514613167867152 8.439754809194692,9.821367772006445 4.190888923499388,10.067930692880484 3.4869160642500914,5.681735066507661 6.839999202028653,2.615968096468487 10.447510950214042,5.479928274889664 9.884021444720464,10.014891819553043 4.944036776467419,11.206369541292217 3.619708467827695,6.717933482315642 5.954009676989461,3.82106112576936 9.10774231788592,5.192874387703145 9.935010025589788,8.668539498394896 6.3111700112399145,10.980644505845214 2.8106792793614233,7.847777529623069 4.893672681098561,3.875867564533993 9.475097641474541,3.3136373179646537 10.284497610219931,7.75764028867359 7.363170525037719,10.205357692614381 3.271242460614555,8.941329059253007 3.84698879453845,4.33860468416694 7.853041879195046,4.242091547554542 10.973531906007853,6.763947367495546 8.278031435484847,9.997205773020768 3.64114054461109,10.220882680322493 3.137909197309789,5.257966786396933 7.073348668800604,3.884428836218367 10.66202062862304,5.677175997788403 8.827196045633897,9.19773803523785 5.372852066859527,9.77172218595279 3.45950431638318,6.471229168220275 6.276887379980206,4.221061207958899 10.207657368199486,4.654210980100005 9.942869082831209,8.954228789154064 6.141689378443477,10.478795629917986 3.061579442806156,7.522590265739617 4.7299343922597155,3.0942117089109575 9.486921225706537,3.7724917104171216 10.232949520470196,7.984451680410198 7.138570643170415,10.165170449360126 3.161588293214887,8.682717190816797 3.53832113042204,3.66500371150124 8.377007133729457,3.483687183201863 10.17669973335105,7.015894171662863 8.056950816327259,10.046472543884033 3.89546347514436,9.584514222868652 3.238225629517395,4.995508097413458 7.457455926011481,2.311822958705185 9.635825723808434,6.2218060096327426 9.574498412546163,10.561258207438264 4.721691462073356,10.38299433737671 3.5989939617371376,6.259027218429985 6.376367381171149,3.6932799209554545 9.541994651350612,5.367498804567887 9.546123590846616,8.955082521448874\n"
          ]
        }
      ]
    },
    {
      "cell_type": "code",
      "source": [
        "def make_all_svg_polygon_strings(all_coords, offset): # all coords should be dict with word key and coordinate value as made above\n",
        "  svg_dict = {}\n",
        "  for k,v in all_coords.items():\n",
        "    svg_dict[k] = make_svg_friendly(v, offset)\n",
        "  return svg_dict"
      ],
      "metadata": {
        "id": "fNRnU6nenVS3"
      },
      "execution_count": 30,
      "outputs": []
    },
    {
      "cell_type": "code",
      "source": [
        "polygon_str_dict = make_all_svg_polygon_strings(coordinates_all_words, svg_min)"
      ],
      "metadata": {
        "id": "35o1PJuI9AZ2"
      },
      "execution_count": 31,
      "outputs": []
    },
    {
      "cell_type": "code",
      "source": [
        "save_json( \"scp_word_polygon_keyvals\", polygon_str_dict)"
      ],
      "metadata": {
        "colab": {
          "base_uri": "https://localhost:8080/",
          "height": 34
        },
        "id": "wwidQhSj9O3K",
        "outputId": "135810f3-eb43-41dd-bdff-d92efeb9c3ee"
      },
      "execution_count": 34,
      "outputs": [
        {
          "output_type": "display_data",
          "data": {
            "text/plain": [
              "<IPython.core.display.Javascript object>"
            ],
            "application/javascript": [
              "\n",
              "    async function download(id, filename, size) {\n",
              "      if (!google.colab.kernel.accessAllowed) {\n",
              "        return;\n",
              "      }\n",
              "      const div = document.createElement('div');\n",
              "      const label = document.createElement('label');\n",
              "      label.textContent = `Downloading \"${filename}\": `;\n",
              "      div.appendChild(label);\n",
              "      const progress = document.createElement('progress');\n",
              "      progress.max = size;\n",
              "      div.appendChild(progress);\n",
              "      document.body.appendChild(div);\n",
              "\n",
              "      const buffers = [];\n",
              "      let downloaded = 0;\n",
              "\n",
              "      const channel = await google.colab.kernel.comms.open(id);\n",
              "      // Send a message to notify the kernel that we're ready.\n",
              "      channel.send({})\n",
              "\n",
              "      for await (const message of channel.messages) {\n",
              "        // Send a message to notify the kernel that we're ready.\n",
              "        channel.send({})\n",
              "        if (message.buffers) {\n",
              "          for (const buffer of message.buffers) {\n",
              "            buffers.push(buffer);\n",
              "            downloaded += buffer.byteLength;\n",
              "            progress.value = downloaded;\n",
              "          }\n",
              "        }\n",
              "      }\n",
              "      const blob = new Blob(buffers, {type: 'application/binary'});\n",
              "      const a = document.createElement('a');\n",
              "      a.href = window.URL.createObjectURL(blob);\n",
              "      a.download = filename;\n",
              "      div.appendChild(a);\n",
              "      a.click();\n",
              "      div.remove();\n",
              "    }\n",
              "  "
            ]
          },
          "metadata": {}
        },
        {
          "output_type": "display_data",
          "data": {
            "text/plain": [
              "<IPython.core.display.Javascript object>"
            ],
            "application/javascript": [
              "download(\"download_a2b00a23-de1f-43f3-829f-ad09d4c08415\", \"scp_word_polygon_keyvals.json\", 419123408)"
            ]
          },
          "metadata": {}
        }
      ]
    }
  ]
}